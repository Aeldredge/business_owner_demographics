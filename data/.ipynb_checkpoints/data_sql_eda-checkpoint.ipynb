{
 "cells": [
  {
   "cell_type": "code",
   "execution_count": 1,
   "id": "demonstrated-increase",
   "metadata": {},
   "outputs": [],
   "source": [
    "import numpy as np\n",
    "import pandas as pd\n",
    "import pyspark as ps\n",
    "import matplotlib.pyplot as plt\n",
    "\n",
    "plt.style.use('ggplot')\n",
    "pd.set_option('display.max_columns', None)\n",
    "pd.set_option('display.max_rows', None)\n",
    "spark = (ps.sql.SparkSession.builder \n",
    "        .master(\"local[4]\") \n",
    "        .appName(\"sparkSQL exercise\") \n",
    "        .getOrCreate()\n",
    "        )\n",
    "sc = spark.sparkContext"
   ]
  },
  {
   "cell_type": "code",
   "execution_count": 2,
   "id": "residential-salad",
   "metadata": {},
   "outputs": [],
   "source": [
    "df07 = spark.read.csv('2007/2007_data.csv', header=True, sep=\",\", inferSchema=True)"
   ]
  },
  {
   "cell_type": "code",
   "execution_count": 3,
   "id": "excellent-tonight",
   "metadata": {},
   "outputs": [],
   "source": [
    "df07.createOrReplaceTempView('owners_07')"
   ]
  },
  {
   "cell_type": "code",
   "execution_count": 4,
   "id": "agreed-processor",
   "metadata": {},
   "outputs": [],
   "source": [
    "simple_07 = spark.sql('''\n",
    "    SELECT FIPST AS state, SECTOR AS sector, \n",
    "            IFNULL(ETH1, \"N/A\") AS ethnicity, \n",
    "            IFNULL(RACE1, \"U\") AS race, \n",
    "            IFNULL(SEX1, \"U\") AS sex, \n",
    "            IFNULL(ESTABLISHED, 0) AS year,\n",
    "            IFNULL(EMPLOYMENT_NOISY, 1) AS employees\n",
    "    FROM owners_07\n",
    "    ''')"
   ]
  },
  {
   "cell_type": "code",
   "execution_count": 5,
   "id": "artistic-upset",
   "metadata": {},
   "outputs": [
    {
     "name": "stdout",
     "output_type": "stream",
     "text": [
      "+-----+------+---------+----+---+----+---------+\n",
      "|state|sector|ethnicity|race|sex|year|employees|\n",
      "+-----+------+---------+----+---+----+---------+\n",
      "|   23|    51|        N|   W|  M|   1|        9|\n",
      "|   23|    44|        N|   W|  M|   1|       74|\n",
      "|   23|    55|        N|   W|  M|   1|        2|\n",
      "|   23|    54|        N|   W|  M|   1|       34|\n",
      "|   23|    51|        N|   W|  M|   1|      120|\n",
      "|   23|    42|        N|   W|  M|   1|      110|\n",
      "|   23|    44|        N|   W|  M|   0|       14|\n",
      "|   23|    44|        N|   W|  M|   1|       14|\n",
      "|   23|    44|        N|   W|  M|   1|       34|\n",
      "|   23|    42|        N|   W|  M|   1|      280|\n",
      "|   23|    31|        N|   W|  M|   1|       34|\n",
      "|   23|    31|        N|   W|  M|   1|       10|\n",
      "|   23|    22|        N|   W|  M|   1|        4|\n",
      "|   23|    31|        N|   W|  M|   1|       74|\n",
      "|   23|    54|        N|   W|  M|   1|        0|\n",
      "|   23|    71|        N|   W|  M|   1|       14|\n",
      "|   23|    44|        N|   W|  M|   1|       14|\n",
      "|   23|    31|        N|   W|  M|   1|       34|\n",
      "|   23|    31|        N|   W|  M|   1|      490|\n",
      "|   23|    51|        N|   W|  M|   1|      270|\n",
      "|   23|    56|        N|   W|  M|   1|      390|\n",
      "|   23|    22|        N|   W|  M|   1|        4|\n",
      "|   23|    44|        N|   W|  M|   1|       74|\n",
      "|   23|    23|        N|   W|  M|   1|       34|\n",
      "|   23|    31|        N|   W|  M|   1|        2|\n",
      "|   23|    31|        N|   W|  M|   1|      260|\n",
      "|   23|    31|        N|   W|  M|   2|       14|\n",
      "|   23|    52|        N|   W|  M|   0|       34|\n",
      "|   23|    42|        N|   W|  M|   1|       14|\n",
      "|   23|    44|        N|   W|  M|   1|       34|\n",
      "|   23|    11|        N|   W|  M|   1|       34|\n",
      "|   23|    44|        N|   W|  F|   1|       34|\n",
      "|   23|    52|        N|   W|  M|   1|        0|\n",
      "|   23|    51|        N|   W|  M|   1|       14|\n",
      "|   23|    71|        N|   W|  M|   0|        8|\n",
      "|   23|    44|        N|   W|  F|   0|        8|\n",
      "|   23|    31|        N|   W|  M|   0|       74|\n",
      "|   23|    72|        N|   W|  M|   1|        7|\n",
      "|   23|    11|        N|   W|  M|   1|       14|\n",
      "|   23|    44|        N|   W|  M|   1|       34|\n",
      "|   23|    31|        N|W  A|  M|   1|       74|\n",
      "+-----+------+---------+----+---+----+---------+\n",
      "only showing top 41 rows\n",
      "\n"
     ]
    }
   ],
   "source": [
    "simple_07.show(41)"
   ]
  },
  {
   "cell_type": "code",
   "execution_count": 6,
   "id": "valuable-potato",
   "metadata": {},
   "outputs": [],
   "source": [
    "data2007 = simple_07.toPandas()\n",
    "data2007.to_csv(r'2007/2007_slim_data.csv')"
   ]
  },
  {
   "cell_type": "code",
   "execution_count": 7,
   "id": "guilty-ballet",
   "metadata": {},
   "outputs": [
    {
     "name": "stdout",
     "output_type": "stream",
     "text": [
      "<class 'pandas.core.frame.DataFrame'>\n",
      "RangeIndex: 2165680 entries, 0 to 2165679\n",
      "Data columns (total 7 columns):\n",
      " #   Column     Dtype \n",
      "---  ------     ----- \n",
      " 0   state      object\n",
      " 1   sector     int32 \n",
      " 2   ethnicity  object\n",
      " 3   race       object\n",
      " 4   sex        object\n",
      " 5   year       object\n",
      " 6   employees  int32 \n",
      "dtypes: int32(2), object(5)\n",
      "memory usage: 99.1+ MB\n"
     ]
    }
   ],
   "source": [
    "data2007.info()"
   ]
  },
  {
   "cell_type": "code",
   "execution_count": 8,
   "id": "prostate-reliance",
   "metadata": {},
   "outputs": [],
   "source": [
    "data2007['year'] = 2007"
   ]
  },
  {
   "cell_type": "code",
   "execution_count": 9,
   "id": "norwegian-genealogy",
   "metadata": {},
   "outputs": [],
   "source": [
    "data2007['year'] = pd.to_numeric(data2007['year'])"
   ]
  },
  {
   "cell_type": "code",
   "execution_count": null,
   "id": "statutory-prairie",
   "metadata": {},
   "outputs": [],
   "source": []
  },
  {
   "cell_type": "code",
   "execution_count": 10,
   "id": "requested-creek",
   "metadata": {},
   "outputs": [],
   "source": [
    "# Leaving state as object because code is alpha-numeric.  Ex. S1, S2, S3, S4."
   ]
  },
  {
   "cell_type": "code",
   "execution_count": null,
   "id": "technical-illinois",
   "metadata": {},
   "outputs": [],
   "source": []
  },
  {
   "cell_type": "code",
   "execution_count": 11,
   "id": "motivated-rebel",
   "metadata": {},
   "outputs": [],
   "source": [
    "data2007['race1'] = data2007['race'].str.slice(stop=1)"
   ]
  },
  {
   "cell_type": "code",
   "execution_count": 12,
   "id": "competent-silence",
   "metadata": {},
   "outputs": [],
   "source": [
    "data2007['race2'] = data2007['race'].str.slice(start=1).str.strip()"
   ]
  },
  {
   "cell_type": "code",
   "execution_count": 13,
   "id": "local-toyota",
   "metadata": {},
   "outputs": [
    {
     "data": {
      "text/plain": [
       "array(['W', 'A', 'I', 'B', 'S', 'P'], dtype=object)"
      ]
     },
     "execution_count": 13,
     "metadata": {},
     "output_type": "execute_result"
    }
   ],
   "source": [
    "data2007.race1.unique()"
   ]
  },
  {
   "cell_type": "code",
   "execution_count": 14,
   "id": "after-madison",
   "metadata": {},
   "outputs": [],
   "source": [
    "# Race classification is designated by:\n",
    "# W – WHITE \n",
    "# B – BLACK\n",
    "# I – AIAN (AMERICAN INDIAN AND ALASKA NATIVE)\n",
    "# A – ASIAN (AN AGGREGATION OF DETAILED ASIAN GROUPS)\n",
    "# P – NHOPI (NATIVE HAWAIIAN AND OTHER PACIFIC ISLANDER) \n",
    "# S – SOR (SOME OTHER RACE)"
   ]
  },
  {
   "cell_type": "code",
   "execution_count": 15,
   "id": "opposed-shape",
   "metadata": {},
   "outputs": [
    {
     "data": {
      "text/plain": [
       "array(['', 'A', 'I', 'B', 'S', 'P'], dtype=object)"
      ]
     },
     "execution_count": 15,
     "metadata": {},
     "output_type": "execute_result"
    }
   ],
   "source": [
    "data2007.race2.unique()"
   ]
  },
  {
   "cell_type": "code",
   "execution_count": 16,
   "id": "prescribed-information",
   "metadata": {},
   "outputs": [],
   "source": [
    "# data2007['race2'] = data2007['race2'].str.strip()"
   ]
  },
  {
   "cell_type": "code",
   "execution_count": 17,
   "id": "commercial-least",
   "metadata": {},
   "outputs": [
    {
     "data": {
      "text/plain": [
       "array(['', 'A', 'I', 'B', 'S', 'P'], dtype=object)"
      ]
     },
     "execution_count": 17,
     "metadata": {},
     "output_type": "execute_result"
    }
   ],
   "source": [
    "data2007.race2.unique()"
   ]
  },
  {
   "cell_type": "code",
   "execution_count": 18,
   "id": "waiting-consortium",
   "metadata": {},
   "outputs": [
    {
     "name": "stdout",
     "output_type": "stream",
     "text": [
      "<class 'pandas.core.frame.DataFrame'>\n",
      "RangeIndex: 2165680 entries, 0 to 2165679\n",
      "Data columns (total 9 columns):\n",
      " #   Column     Dtype \n",
      "---  ------     ----- \n",
      " 0   state      object\n",
      " 1   sector     int32 \n",
      " 2   ethnicity  object\n",
      " 3   race       object\n",
      " 4   sex        object\n",
      " 5   year       int64 \n",
      " 6   employees  int32 \n",
      " 7   race1      object\n",
      " 8   race2      object\n",
      "dtypes: int32(2), int64(1), object(6)\n",
      "memory usage: 132.2+ MB\n"
     ]
    }
   ],
   "source": [
    "data2007.info()"
   ]
  },
  {
   "cell_type": "code",
   "execution_count": 19,
   "id": "meaningful-playlist",
   "metadata": {},
   "outputs": [
    {
     "data": {
      "text/plain": [
       "array([51, 44, 55, 54, 42, 31, 22, 71, 56, 23, 52, 11, 72, 81, 53, 48, 62,\n",
       "       21, 61, 99], dtype=int32)"
      ]
     },
     "execution_count": 19,
     "metadata": {},
     "output_type": "execute_result"
    }
   ],
   "source": [
    "data2007.sector.unique()"
   ]
  },
  {
   "cell_type": "code",
   "execution_count": 20,
   "id": "useful-respect",
   "metadata": {},
   "outputs": [],
   "source": [
    "def plotdemo(data, col):\n",
    "    fig, ax = plt.subplots(figsize=(20,5))\n",
    "    ax.hist(data[col]);"
   ]
  },
  {
   "cell_type": "code",
   "execution_count": 21,
   "id": "generous-operations",
   "metadata": {},
   "outputs": [
    {
     "data": {
      "text/plain": [
       "294882"
      ]
     },
     "execution_count": 21,
     "metadata": {},
     "output_type": "execute_result"
    }
   ],
   "source": [
    "len(data2007[data2007['sector'] == 54])"
   ]
  },
  {
   "cell_type": "code",
   "execution_count": 22,
   "id": "considered-pontiac",
   "metadata": {},
   "outputs": [],
   "source": [
    "# 'pst' stands for Professional, Science, and Technical Services.  Sector 54 is the NAICS code for that industry title."
   ]
  },
  {
   "cell_type": "code",
   "execution_count": 23,
   "id": "nearby-instrumentation",
   "metadata": {},
   "outputs": [],
   "source": [
    "pst_data_07 = data2007[data2007['sector'] == 54]"
   ]
  },
  {
   "cell_type": "code",
   "execution_count": 24,
   "id": "solved-bradford",
   "metadata": {},
   "outputs": [
    {
     "name": "stdout",
     "output_type": "stream",
     "text": [
      "<class 'pandas.core.frame.DataFrame'>\n",
      "Int64Index: 294882 entries, 3 to 2165665\n",
      "Data columns (total 9 columns):\n",
      " #   Column     Non-Null Count   Dtype \n",
      "---  ------     --------------   ----- \n",
      " 0   state      294882 non-null  object\n",
      " 1   sector     294882 non-null  int32 \n",
      " 2   ethnicity  294882 non-null  object\n",
      " 3   race       294882 non-null  object\n",
      " 4   sex        294882 non-null  object\n",
      " 5   year       294882 non-null  int64 \n",
      " 6   employees  294882 non-null  int32 \n",
      " 7   race1      294882 non-null  object\n",
      " 8   race2      294882 non-null  object\n",
      "dtypes: int32(2), int64(1), object(6)\n",
      "memory usage: 20.2+ MB\n"
     ]
    }
   ],
   "source": [
    "pst_data_07.info()"
   ]
  },
  {
   "cell_type": "code",
   "execution_count": 25,
   "id": "about-velvet",
   "metadata": {},
   "outputs": [],
   "source": [
    "pst_df = pst_data_07.groupby(['race1', 'race2','ethnicity','sex']).agg({'sector':'count'})"
   ]
  },
  {
   "cell_type": "code",
   "execution_count": 26,
   "id": "buried-maximum",
   "metadata": {},
   "outputs": [
    {
     "data": {
      "text/html": [
       "<div>\n",
       "<style scoped>\n",
       "    .dataframe tbody tr th:only-of-type {\n",
       "        vertical-align: middle;\n",
       "    }\n",
       "\n",
       "    .dataframe tbody tr th {\n",
       "        vertical-align: top;\n",
       "    }\n",
       "\n",
       "    .dataframe thead th {\n",
       "        text-align: right;\n",
       "    }\n",
       "</style>\n",
       "<table border=\"1\" class=\"dataframe\">\n",
       "  <thead>\n",
       "    <tr style=\"text-align: right;\">\n",
       "      <th></th>\n",
       "      <th></th>\n",
       "      <th></th>\n",
       "      <th></th>\n",
       "      <th>percent</th>\n",
       "    </tr>\n",
       "    <tr>\n",
       "      <th>race1</th>\n",
       "      <th>race2</th>\n",
       "      <th>ethnicity</th>\n",
       "      <th>sex</th>\n",
       "      <th></th>\n",
       "    </tr>\n",
       "  </thead>\n",
       "  <tbody>\n",
       "    <tr>\n",
       "      <th rowspan=\"10\" valign=\"top\">A</th>\n",
       "      <th rowspan=\"4\" valign=\"top\"></th>\n",
       "      <th rowspan=\"2\" valign=\"top\">H</th>\n",
       "      <th>F</th>\n",
       "      <td>0.035268</td>\n",
       "    </tr>\n",
       "    <tr>\n",
       "      <th>M</th>\n",
       "      <td>0.059346</td>\n",
       "    </tr>\n",
       "    <tr>\n",
       "      <th rowspan=\"2\" valign=\"top\">N</th>\n",
       "      <th>F</th>\n",
       "      <td>2.040477</td>\n",
       "    </tr>\n",
       "    <tr>\n",
       "      <th>M</th>\n",
       "      <td>4.439403</td>\n",
       "    </tr>\n",
       "    <tr>\n",
       "      <th rowspan=\"4\" valign=\"top\">P</th>\n",
       "      <th rowspan=\"2\" valign=\"top\">H</th>\n",
       "      <th>F</th>\n",
       "      <td>0.001696</td>\n",
       "    </tr>\n",
       "    <tr>\n",
       "      <th>M</th>\n",
       "      <td>0.000678</td>\n",
       "    </tr>\n",
       "    <tr>\n",
       "      <th rowspan=\"2\" valign=\"top\">N</th>\n",
       "      <th>F</th>\n",
       "      <td>0.011191</td>\n",
       "    </tr>\n",
       "    <tr>\n",
       "      <th>M</th>\n",
       "      <td>0.017634</td>\n",
       "    </tr>\n",
       "    <tr>\n",
       "      <th rowspan=\"2\" valign=\"top\">S</th>\n",
       "      <th rowspan=\"2\" valign=\"top\">N</th>\n",
       "      <th>F</th>\n",
       "      <td>0.013904</td>\n",
       "    </tr>\n",
       "    <tr>\n",
       "      <th>M</th>\n",
       "      <td>0.030521</td>\n",
       "    </tr>\n",
       "    <tr>\n",
       "      <th rowspan=\"18\" valign=\"top\">B</th>\n",
       "      <th rowspan=\"4\" valign=\"top\"></th>\n",
       "      <th rowspan=\"2\" valign=\"top\">H</th>\n",
       "      <th>F</th>\n",
       "      <td>0.062398</td>\n",
       "    </tr>\n",
       "    <tr>\n",
       "      <th>M</th>\n",
       "      <td>0.100040</td>\n",
       "    </tr>\n",
       "    <tr>\n",
       "      <th rowspan=\"2\" valign=\"top\">N</th>\n",
       "      <th>F</th>\n",
       "      <td>1.660325</td>\n",
       "    </tr>\n",
       "    <tr>\n",
       "      <th>M</th>\n",
       "      <td>2.694298</td>\n",
       "    </tr>\n",
       "    <tr>\n",
       "      <th rowspan=\"4\" valign=\"top\">A</th>\n",
       "      <th rowspan=\"2\" valign=\"top\">H</th>\n",
       "      <th>F</th>\n",
       "      <td>0.003052</td>\n",
       "    </tr>\n",
       "    <tr>\n",
       "      <th>M</th>\n",
       "      <td>0.002374</td>\n",
       "    </tr>\n",
       "    <tr>\n",
       "      <th rowspan=\"2\" valign=\"top\">N</th>\n",
       "      <th>F</th>\n",
       "      <td>0.015939</td>\n",
       "    </tr>\n",
       "    <tr>\n",
       "      <th>M</th>\n",
       "      <td>0.019669</td>\n",
       "    </tr>\n",
       "    <tr>\n",
       "      <th rowspan=\"4\" valign=\"top\">I</th>\n",
       "      <th rowspan=\"2\" valign=\"top\">H</th>\n",
       "      <th>F</th>\n",
       "      <td>0.002035</td>\n",
       "    </tr>\n",
       "    <tr>\n",
       "      <th>M</th>\n",
       "      <td>0.002713</td>\n",
       "    </tr>\n",
       "    <tr>\n",
       "      <th rowspan=\"2\" valign=\"top\">N</th>\n",
       "      <th>F</th>\n",
       "      <td>0.020008</td>\n",
       "    </tr>\n",
       "    <tr>\n",
       "      <th>M</th>\n",
       "      <td>0.019669</td>\n",
       "    </tr>\n",
       "    <tr>\n",
       "      <th rowspan=\"2\" valign=\"top\">P</th>\n",
       "      <th rowspan=\"2\" valign=\"top\">N</th>\n",
       "      <th>F</th>\n",
       "      <td>0.001017</td>\n",
       "    </tr>\n",
       "    <tr>\n",
       "      <th>M</th>\n",
       "      <td>0.001017</td>\n",
       "    </tr>\n",
       "    <tr>\n",
       "      <th rowspan=\"4\" valign=\"top\">S</th>\n",
       "      <th rowspan=\"2\" valign=\"top\">H</th>\n",
       "      <th>F</th>\n",
       "      <td>0.000339</td>\n",
       "    </tr>\n",
       "    <tr>\n",
       "      <th>M</th>\n",
       "      <td>0.000339</td>\n",
       "    </tr>\n",
       "    <tr>\n",
       "      <th rowspan=\"2\" valign=\"top\">N</th>\n",
       "      <th>F</th>\n",
       "      <td>0.003730</td>\n",
       "    </tr>\n",
       "    <tr>\n",
       "      <th>M</th>\n",
       "      <td>0.004069</td>\n",
       "    </tr>\n",
       "    <tr>\n",
       "      <th rowspan=\"14\" valign=\"top\">I</th>\n",
       "      <th rowspan=\"4\" valign=\"top\"></th>\n",
       "      <th rowspan=\"2\" valign=\"top\">H</th>\n",
       "      <th>F</th>\n",
       "      <td>0.027469</td>\n",
       "    </tr>\n",
       "    <tr>\n",
       "      <th>M</th>\n",
       "      <td>0.047477</td>\n",
       "    </tr>\n",
       "    <tr>\n",
       "      <th rowspan=\"2\" valign=\"top\">N</th>\n",
       "      <th>F</th>\n",
       "      <td>0.178716</td>\n",
       "    </tr>\n",
       "    <tr>\n",
       "      <th>M</th>\n",
       "      <td>0.380152</td>\n",
       "    </tr>\n",
       "    <tr>\n",
       "      <th rowspan=\"4\" valign=\"top\">A</th>\n",
       "      <th rowspan=\"2\" valign=\"top\">H</th>\n",
       "      <th>F</th>\n",
       "      <td>0.000678</td>\n",
       "    </tr>\n",
       "    <tr>\n",
       "      <th>M</th>\n",
       "      <td>0.001017</td>\n",
       "    </tr>\n",
       "    <tr>\n",
       "      <th rowspan=\"2\" valign=\"top\">N</th>\n",
       "      <th>F</th>\n",
       "      <td>0.006443</td>\n",
       "    </tr>\n",
       "    <tr>\n",
       "      <th>M</th>\n",
       "      <td>0.010852</td>\n",
       "    </tr>\n",
       "    <tr>\n",
       "      <th rowspan=\"3\" valign=\"top\">P</th>\n",
       "      <th>H</th>\n",
       "      <th>M</th>\n",
       "      <td>0.000339</td>\n",
       "    </tr>\n",
       "    <tr>\n",
       "      <th rowspan=\"2\" valign=\"top\">N</th>\n",
       "      <th>F</th>\n",
       "      <td>0.000678</td>\n",
       "    </tr>\n",
       "    <tr>\n",
       "      <th>M</th>\n",
       "      <td>0.001356</td>\n",
       "    </tr>\n",
       "    <tr>\n",
       "      <th rowspan=\"3\" valign=\"top\">S</th>\n",
       "      <th>H</th>\n",
       "      <th>M</th>\n",
       "      <td>0.000678</td>\n",
       "    </tr>\n",
       "    <tr>\n",
       "      <th rowspan=\"2\" valign=\"top\">N</th>\n",
       "      <th>F</th>\n",
       "      <td>0.000339</td>\n",
       "    </tr>\n",
       "    <tr>\n",
       "      <th>M</th>\n",
       "      <td>0.000339</td>\n",
       "    </tr>\n",
       "    <tr>\n",
       "      <th rowspan=\"5\" valign=\"top\">P</th>\n",
       "      <th rowspan=\"4\" valign=\"top\"></th>\n",
       "      <th rowspan=\"2\" valign=\"top\">H</th>\n",
       "      <th>F</th>\n",
       "      <td>0.001696</td>\n",
       "    </tr>\n",
       "    <tr>\n",
       "      <th>M</th>\n",
       "      <td>0.005765</td>\n",
       "    </tr>\n",
       "    <tr>\n",
       "      <th rowspan=\"2\" valign=\"top\">N</th>\n",
       "      <th>F</th>\n",
       "      <td>0.040016</td>\n",
       "    </tr>\n",
       "    <tr>\n",
       "      <th>M</th>\n",
       "      <td>0.067146</td>\n",
       "    </tr>\n",
       "    <tr>\n",
       "      <th>S</th>\n",
       "      <th>N</th>\n",
       "      <th>M</th>\n",
       "      <td>0.000678</td>\n",
       "    </tr>\n",
       "    <tr>\n",
       "      <th rowspan=\"4\" valign=\"top\">S</th>\n",
       "      <th rowspan=\"4\" valign=\"top\"></th>\n",
       "      <th rowspan=\"2\" valign=\"top\">H</th>\n",
       "      <th>F</th>\n",
       "      <td>0.011869</td>\n",
       "    </tr>\n",
       "    <tr>\n",
       "      <th>M</th>\n",
       "      <td>0.014243</td>\n",
       "    </tr>\n",
       "    <tr>\n",
       "      <th rowspan=\"2\" valign=\"top\">N</th>\n",
       "      <th>F</th>\n",
       "      <td>0.041712</td>\n",
       "    </tr>\n",
       "    <tr>\n",
       "      <th>M</th>\n",
       "      <td>0.086814</td>\n",
       "    </tr>\n",
       "    <tr>\n",
       "      <th rowspan=\"24\" valign=\"top\">W</th>\n",
       "      <th rowspan=\"4\" valign=\"top\"></th>\n",
       "      <th rowspan=\"2\" valign=\"top\">H</th>\n",
       "      <th>F</th>\n",
       "      <td>1.718993</td>\n",
       "    </tr>\n",
       "    <tr>\n",
       "      <th>M</th>\n",
       "      <td>3.142952</td>\n",
       "    </tr>\n",
       "    <tr>\n",
       "      <th rowspan=\"2\" valign=\"top\">N</th>\n",
       "      <th>F</th>\n",
       "      <td>23.916685</td>\n",
       "    </tr>\n",
       "    <tr>\n",
       "      <th>M</th>\n",
       "      <td>57.724785</td>\n",
       "    </tr>\n",
       "    <tr>\n",
       "      <th rowspan=\"4\" valign=\"top\">A</th>\n",
       "      <th rowspan=\"2\" valign=\"top\">H</th>\n",
       "      <th>F</th>\n",
       "      <td>0.012887</td>\n",
       "    </tr>\n",
       "    <tr>\n",
       "      <th>M</th>\n",
       "      <td>0.013904</td>\n",
       "    </tr>\n",
       "    <tr>\n",
       "      <th rowspan=\"2\" valign=\"top\">N</th>\n",
       "      <th>F</th>\n",
       "      <td>0.177020</td>\n",
       "    </tr>\n",
       "    <tr>\n",
       "      <th>M</th>\n",
       "      <td>0.277399</td>\n",
       "    </tr>\n",
       "    <tr>\n",
       "      <th rowspan=\"4\" valign=\"top\">B</th>\n",
       "      <th rowspan=\"2\" valign=\"top\">H</th>\n",
       "      <th>F</th>\n",
       "      <td>0.045442</td>\n",
       "    </tr>\n",
       "    <tr>\n",
       "      <th>M</th>\n",
       "      <td>0.055276</td>\n",
       "    </tr>\n",
       "    <tr>\n",
       "      <th rowspan=\"2\" valign=\"top\">N</th>\n",
       "      <th>F</th>\n",
       "      <td>0.080371</td>\n",
       "    </tr>\n",
       "    <tr>\n",
       "      <th>M</th>\n",
       "      <td>0.138700</td>\n",
       "    </tr>\n",
       "    <tr>\n",
       "      <th rowspan=\"4\" valign=\"top\">I</th>\n",
       "      <th rowspan=\"2\" valign=\"top\">H</th>\n",
       "      <th>F</th>\n",
       "      <td>0.018652</td>\n",
       "    </tr>\n",
       "    <tr>\n",
       "      <th>M</th>\n",
       "      <td>0.017634</td>\n",
       "    </tr>\n",
       "    <tr>\n",
       "      <th rowspan=\"2\" valign=\"top\">N</th>\n",
       "      <th>F</th>\n",
       "      <td>0.123439</td>\n",
       "    </tr>\n",
       "    <tr>\n",
       "      <th>M</th>\n",
       "      <td>0.219749</td>\n",
       "    </tr>\n",
       "    <tr>\n",
       "      <th rowspan=\"4\" valign=\"top\">P</th>\n",
       "      <th rowspan=\"2\" valign=\"top\">H</th>\n",
       "      <th>F</th>\n",
       "      <td>0.001017</td>\n",
       "    </tr>\n",
       "    <tr>\n",
       "      <th>M</th>\n",
       "      <td>0.003052</td>\n",
       "    </tr>\n",
       "    <tr>\n",
       "      <th rowspan=\"2\" valign=\"top\">N</th>\n",
       "      <th>F</th>\n",
       "      <td>0.020008</td>\n",
       "    </tr>\n",
       "    <tr>\n",
       "      <th>M</th>\n",
       "      <td>0.028147</td>\n",
       "    </tr>\n",
       "    <tr>\n",
       "      <th rowspan=\"4\" valign=\"top\">S</th>\n",
       "      <th rowspan=\"2\" valign=\"top\">H</th>\n",
       "      <th>F</th>\n",
       "      <td>0.007800</td>\n",
       "    </tr>\n",
       "    <tr>\n",
       "      <th>M</th>\n",
       "      <td>0.012887</td>\n",
       "    </tr>\n",
       "    <tr>\n",
       "      <th rowspan=\"2\" valign=\"top\">N</th>\n",
       "      <th>F</th>\n",
       "      <td>0.021025</td>\n",
       "    </tr>\n",
       "    <tr>\n",
       "      <th>M</th>\n",
       "      <td>0.032555</td>\n",
       "    </tr>\n",
       "  </tbody>\n",
       "</table>\n",
       "</div>"
      ],
      "text/plain": [
       "                             percent\n",
       "race1 race2 ethnicity sex           \n",
       "A           H         F     0.035268\n",
       "                      M     0.059346\n",
       "            N         F     2.040477\n",
       "                      M     4.439403\n",
       "      P     H         F     0.001696\n",
       "                      M     0.000678\n",
       "            N         F     0.011191\n",
       "                      M     0.017634\n",
       "      S     N         F     0.013904\n",
       "                      M     0.030521\n",
       "B           H         F     0.062398\n",
       "                      M     0.100040\n",
       "            N         F     1.660325\n",
       "                      M     2.694298\n",
       "      A     H         F     0.003052\n",
       "                      M     0.002374\n",
       "            N         F     0.015939\n",
       "                      M     0.019669\n",
       "      I     H         F     0.002035\n",
       "                      M     0.002713\n",
       "            N         F     0.020008\n",
       "                      M     0.019669\n",
       "      P     N         F     0.001017\n",
       "                      M     0.001017\n",
       "      S     H         F     0.000339\n",
       "                      M     0.000339\n",
       "            N         F     0.003730\n",
       "                      M     0.004069\n",
       "I           H         F     0.027469\n",
       "                      M     0.047477\n",
       "            N         F     0.178716\n",
       "                      M     0.380152\n",
       "      A     H         F     0.000678\n",
       "                      M     0.001017\n",
       "            N         F     0.006443\n",
       "                      M     0.010852\n",
       "      P     H         M     0.000339\n",
       "            N         F     0.000678\n",
       "                      M     0.001356\n",
       "      S     H         M     0.000678\n",
       "            N         F     0.000339\n",
       "                      M     0.000339\n",
       "P           H         F     0.001696\n",
       "                      M     0.005765\n",
       "            N         F     0.040016\n",
       "                      M     0.067146\n",
       "      S     N         M     0.000678\n",
       "S           H         F     0.011869\n",
       "                      M     0.014243\n",
       "            N         F     0.041712\n",
       "                      M     0.086814\n",
       "W           H         F     1.718993\n",
       "                      M     3.142952\n",
       "            N         F    23.916685\n",
       "                      M    57.724785\n",
       "      A     H         F     0.012887\n",
       "                      M     0.013904\n",
       "            N         F     0.177020\n",
       "                      M     0.277399\n",
       "      B     H         F     0.045442\n",
       "                      M     0.055276\n",
       "            N         F     0.080371\n",
       "                      M     0.138700\n",
       "      I     H         F     0.018652\n",
       "                      M     0.017634\n",
       "            N         F     0.123439\n",
       "                      M     0.219749\n",
       "      P     H         F     0.001017\n",
       "                      M     0.003052\n",
       "            N         F     0.020008\n",
       "                      M     0.028147\n",
       "      S     H         F     0.007800\n",
       "                      M     0.012887\n",
       "            N         F     0.021025\n",
       "                      M     0.032555"
      ]
     },
     "execution_count": 26,
     "metadata": {},
     "output_type": "execute_result"
    }
   ],
   "source": [
    "pst_percent = pst_df.groupby(level=0).apply(lambda x: 100 * x / float(sum(pst_df['sector'])))\n",
    "pst_percent.rename(columns={'sector':'percent'},inplace=True)\n",
    "pst_percent"
   ]
  },
  {
   "cell_type": "code",
   "execution_count": 27,
   "id": "looking-jamaica",
   "metadata": {},
   "outputs": [],
   "source": [
    "race07 = pst_percent.groupby(level=0).agg({'percent':'sum'})\n",
    "race07.sort_values('percent',ascending=False,inplace=True)\n",
    "race07.reset_index(inplace=True)\n",
    "race07.rename(columns={'race1':'race'},inplace=True)"
   ]
  },
  {
   "cell_type": "code",
   "execution_count": 28,
   "id": "printable-allocation",
   "metadata": {},
   "outputs": [
    {
     "data": {
      "text/html": [
       "<div>\n",
       "<style scoped>\n",
       "    .dataframe tbody tr th:only-of-type {\n",
       "        vertical-align: middle;\n",
       "    }\n",
       "\n",
       "    .dataframe tbody tr th {\n",
       "        vertical-align: top;\n",
       "    }\n",
       "\n",
       "    .dataframe thead th {\n",
       "        text-align: right;\n",
       "    }\n",
       "</style>\n",
       "<table border=\"1\" class=\"dataframe\">\n",
       "  <thead>\n",
       "    <tr style=\"text-align: right;\">\n",
       "      <th></th>\n",
       "      <th>race</th>\n",
       "      <th>percent</th>\n",
       "    </tr>\n",
       "  </thead>\n",
       "  <tbody>\n",
       "    <tr>\n",
       "      <th>0</th>\n",
       "      <td>White</td>\n",
       "      <td>87.810378</td>\n",
       "    </tr>\n",
       "    <tr>\n",
       "      <th>1</th>\n",
       "      <td>Asian</td>\n",
       "      <td>6.650118</td>\n",
       "    </tr>\n",
       "    <tr>\n",
       "      <th>2</th>\n",
       "      <td>Black or African American</td>\n",
       "      <td>4.613032</td>\n",
       "    </tr>\n",
       "    <tr>\n",
       "      <th>3</th>\n",
       "      <td>American Indian and Alaska Native</td>\n",
       "      <td>0.656534</td>\n",
       "    </tr>\n",
       "    <tr>\n",
       "      <th>4</th>\n",
       "      <td>Some other race</td>\n",
       "      <td>0.154638</td>\n",
       "    </tr>\n",
       "    <tr>\n",
       "      <th>5</th>\n",
       "      <td>Native Hawaiian and Other Pacific Islander</td>\n",
       "      <td>0.115300</td>\n",
       "    </tr>\n",
       "  </tbody>\n",
       "</table>\n",
       "</div>"
      ],
      "text/plain": [
       "                                         race    percent\n",
       "0                                       White  87.810378\n",
       "1                                       Asian   6.650118\n",
       "2                   Black or African American   4.613032\n",
       "3           American Indian and Alaska Native   0.656534\n",
       "4                             Some other race   0.154638\n",
       "5  Native Hawaiian and Other Pacific Islander   0.115300"
      ]
     },
     "execution_count": 28,
     "metadata": {},
     "output_type": "execute_result"
    }
   ],
   "source": [
    "race07['race'] = np.array(['White','Asian','Black or African American','American Indian and Alaska Native', 'Some other race', 'Native Hawaiian and Other Pacific Islander'])\n",
    "race07"
   ]
  },
  {
   "cell_type": "code",
   "execution_count": 29,
   "id": "harmful-notification",
   "metadata": {},
   "outputs": [
    {
     "data": {
      "text/plain": [
       "race       WhiteAsianBlack or African AmericanAmerican In...\n",
       "percent                                                100.0\n",
       "dtype: object"
      ]
     },
     "execution_count": 29,
     "metadata": {},
     "output_type": "execute_result"
    }
   ],
   "source": [
    "race07.sum()"
   ]
  },
  {
   "cell_type": "code",
   "execution_count": 30,
   "id": "induced-casting",
   "metadata": {},
   "outputs": [
    {
     "data": {
      "image/png": "[encoded data removed]",
      "text/plain": [
       "<Figure size 432x288 with 1 Axes>"
      ]
     },
     "metadata": {},
     "output_type": "display_data"
    }
   ],
   "source": [
    "x = np.arange(len(race07['race']))\n",
    "\n",
    "fig, ax = plt.subplots()\n",
    "\n",
    "ax.bar(x, race07['percent'])\n",
    "ax.set_xticks(x)\n",
    "ax.set_xticklabels(race07['race']);"
   ]
  },
  {
   "cell_type": "code",
   "execution_count": 31,
   "id": "silent-deficit",
   "metadata": {},
   "outputs": [
    {
     "data": {
      "text/html": [
       "<div>\n",
       "<style scoped>\n",
       "    .dataframe tbody tr th:only-of-type {\n",
       "        vertical-align: middle;\n",
       "    }\n",
       "\n",
       "    .dataframe tbody tr th {\n",
       "        vertical-align: top;\n",
       "    }\n",
       "\n",
       "    .dataframe thead th {\n",
       "        text-align: right;\n",
       "    }\n",
       "</style>\n",
       "<table border=\"1\" class=\"dataframe\">\n",
       "  <thead>\n",
       "    <tr style=\"text-align: right;\">\n",
       "      <th></th>\n",
       "      <th>race</th>\n",
       "      <th>percent</th>\n",
       "    </tr>\n",
       "  </thead>\n",
       "  <tbody>\n",
       "    <tr>\n",
       "      <th>0</th>\n",
       "      <td>White</td>\n",
       "      <td>87.810378</td>\n",
       "    </tr>\n",
       "    <tr>\n",
       "      <th>1</th>\n",
       "      <td>Asian</td>\n",
       "      <td>6.650118</td>\n",
       "    </tr>\n",
       "    <tr>\n",
       "      <th>2</th>\n",
       "      <td>Black or African American</td>\n",
       "      <td>4.613032</td>\n",
       "    </tr>\n",
       "    <tr>\n",
       "      <th>3</th>\n",
       "      <td>American Indian and Alaska Native</td>\n",
       "      <td>0.656534</td>\n",
       "    </tr>\n",
       "    <tr>\n",
       "      <th>4</th>\n",
       "      <td>Some other race</td>\n",
       "      <td>0.154638</td>\n",
       "    </tr>\n",
       "    <tr>\n",
       "      <th>5</th>\n",
       "      <td>Native Hawaiian and Other Pacific Islander</td>\n",
       "      <td>0.115300</td>\n",
       "    </tr>\n",
       "  </tbody>\n",
       "</table>\n",
       "</div>"
      ],
      "text/plain": [
       "                                         race    percent\n",
       "0                                       White  87.810378\n",
       "1                                       Asian   6.650118\n",
       "2                   Black or African American   4.613032\n",
       "3           American Indian and Alaska Native   0.656534\n",
       "4                             Some other race   0.154638\n",
       "5  Native Hawaiian and Other Pacific Islander   0.115300"
      ]
     },
     "execution_count": 31,
     "metadata": {},
     "output_type": "execute_result"
    }
   ],
   "source": [
    "zoom_race07 = race07[race07['race'] != 'W']\n",
    "zoom_race07"
   ]
  },
  {
   "cell_type": "code",
   "execution_count": 32,
   "id": "registered-activation",
   "metadata": {},
   "outputs": [
    {
     "data": {
      "image/png": "[encoded data removed]",
      "text/plain": [
       "<Figure size 1080x288 with 2 Axes>"
      ]
     },
     "metadata": {},
     "output_type": "display_data"
    }
   ],
   "source": [
    "x = np.arange(len(race07['race']))\n",
    "x2 = np.arange(len(zoom_race07['race']))\n",
    "\n",
    "fig, ax = plt.subplots(1,2,figsize=(15,4))\n",
    "\n",
    "ax[0].bar(x, race07['percent'])\n",
    "ax[0].set_xticks(x)\n",
    "ax[0].set_xticklabels(race07['race']);\n",
    "\n",
    "ax[1].bar(x2, zoom_race07['percent'])\n",
    "ax[1].set_xticks(x2)\n",
    "ax[1].set_xticklabels(zoom_race07['race']);"
   ]
  },
  {
   "cell_type": "code",
   "execution_count": 33,
   "id": "protecting-richardson",
   "metadata": {},
   "outputs": [
    {
     "data": {
      "text/html": [
       "<div>\n",
       "<style scoped>\n",
       "    .dataframe tbody tr th:only-of-type {\n",
       "        vertical-align: middle;\n",
       "    }\n",
       "\n",
       "    .dataframe tbody tr th {\n",
       "        vertical-align: top;\n",
       "    }\n",
       "\n",
       "    .dataframe thead th {\n",
       "        text-align: right;\n",
       "    }\n",
       "</style>\n",
       "<table border=\"1\" class=\"dataframe\">\n",
       "  <thead>\n",
       "    <tr style=\"text-align: right;\">\n",
       "      <th></th>\n",
       "      <th>percent</th>\n",
       "    </tr>\n",
       "    <tr>\n",
       "      <th>ethnicity</th>\n",
       "      <th></th>\n",
       "    </tr>\n",
       "  </thead>\n",
       "  <tbody>\n",
       "    <tr>\n",
       "      <th>H</th>\n",
       "      <td>5.432003</td>\n",
       "    </tr>\n",
       "    <tr>\n",
       "      <th>N</th>\n",
       "      <td>94.567997</td>\n",
       "    </tr>\n",
       "  </tbody>\n",
       "</table>\n",
       "</div>"
      ],
      "text/plain": [
       "             percent\n",
       "ethnicity           \n",
       "H           5.432003\n",
       "N          94.567997"
      ]
     },
     "execution_count": 33,
     "metadata": {},
     "output_type": "execute_result"
    }
   ],
   "source": [
    "eth07 = pst_percent.groupby(level=2).agg({'percent':'sum'})\n",
    "eth07"
   ]
  },
  {
   "cell_type": "code",
   "execution_count": 34,
   "id": "modern-consciousness",
   "metadata": {},
   "outputs": [
    {
     "data": {
      "text/html": [
       "<div>\n",
       "<style scoped>\n",
       "    .dataframe tbody tr th:only-of-type {\n",
       "        vertical-align: middle;\n",
       "    }\n",
       "\n",
       "    .dataframe tbody tr th {\n",
       "        vertical-align: top;\n",
       "    }\n",
       "\n",
       "    .dataframe thead th {\n",
       "        text-align: right;\n",
       "    }\n",
       "</style>\n",
       "<table border=\"1\" class=\"dataframe\">\n",
       "  <thead>\n",
       "    <tr style=\"text-align: right;\">\n",
       "      <th></th>\n",
       "      <th>percent</th>\n",
       "    </tr>\n",
       "    <tr>\n",
       "      <th>sex</th>\n",
       "      <th></th>\n",
       "    </tr>\n",
       "  </thead>\n",
       "  <tbody>\n",
       "    <tr>\n",
       "      <th>F</th>\n",
       "      <td>30.324333</td>\n",
       "    </tr>\n",
       "    <tr>\n",
       "      <th>M</th>\n",
       "      <td>69.675667</td>\n",
       "    </tr>\n",
       "  </tbody>\n",
       "</table>\n",
       "</div>"
      ],
      "text/plain": [
       "       percent\n",
       "sex           \n",
       "F    30.324333\n",
       "M    69.675667"
      ]
     },
     "execution_count": 34,
     "metadata": {},
     "output_type": "execute_result"
    }
   ],
   "source": [
    "sex07 = pst_percent.groupby(level=3).agg({'percent':'sum'})\n",
    "sex07"
   ]
  },
  {
   "cell_type": "code",
   "execution_count": null,
   "id": "herbal-tongue",
   "metadata": {},
   "outputs": [],
   "source": []
  }
 ],
 "metadata": {
  "kernelspec": {
   "display_name": "Python 3",
   "language": "python",
   "name": "python3"
  },
  "language_info": {
   "codemirror_mode": {
    "name": "ipython",
    "version": 3
   },
   "file_extension": ".py",
   "mimetype": "text/x-python",
   "name": "python",
   "nbconvert_exporter": "python",
   "pygments_lexer": "ipython3",
   "version": "3.8.6"
  }
 },
 "nbformat": 4,
 "nbformat_minor": 5
}
