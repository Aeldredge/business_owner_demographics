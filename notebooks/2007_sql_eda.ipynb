{
 "cells": [
  {
   "cell_type": "code",
   "execution_count": 1,
   "metadata": {},
   "outputs": [],
   "source": [
    "import numpy as np\n",
    "import pandas as pd\n",
    "import pyspark as ps\n",
    "import matplotlib.pyplot as plt\n",
    "from bs4 import BeautifulSoup\n",
    "plt.style.use('ggplot')\n",
    "pd.set_option('display.max_columns', None)\n",
    "pd.set_option('display.max_rows', None)\n",
    "spark = (ps.sql.SparkSession.builder \n",
    "        .master(\"local[4]\") \n",
    "        .appName(\"sparkSQL exercise\") \n",
    "        .getOrCreate()\n",
    "        )\n",
    "sc = spark.sparkContext"
   ]
  },
  {
   "cell_type": "code",
   "execution_count": 2,
   "metadata": {},
   "outputs": [],
   "source": [
    "df07 = spark.read.csv('2007/2007_data.csv', header=True, sep=\",\", inferSchema=True)"
   ]
  },
  {
   "cell_type": "code",
   "execution_count": 3,
   "metadata": {},
   "outputs": [],
   "source": [
    "df07.createOrReplaceTempView('owners_07')"
   ]
  },
  {
   "cell_type": "code",
   "execution_count": 4,
   "metadata": {},
   "outputs": [],
   "source": [
    "simple_07 = spark.sql('''\n",
    "    SELECT FIPST AS state, SECTOR AS sector, \n",
    "            IFNULL(ETH1, \"N/A\") AS ethnicity, \n",
    "            IFNULL(RACE1, \"U\") AS race, \n",
    "            IFNULL(SEX1, \"U\") AS sex, \n",
    "            IFNULL(ESTABLISHED, 0) AS year,\n",
    "            IFNULL(EMPLOYMENT_NOISY, 1) AS employees\n",
    "    FROM owners_07\n",
    "    ''')"
   ]
  },
  {
   "cell_type": "code",
   "execution_count": 5,
   "metadata": {},
   "outputs": [
    {
     "name": "stdout",
     "output_type": "stream",
     "text": [
      "+-----+------+---------+----+---+----+---------+\n",
      "|fipst|sector|ethnicity|race|sex|year|employees|\n",
      "+-----+------+---------+----+---+----+---------+\n",
      "|   23|    51|        N|   W|  M|   1|        9|\n",
      "|   23|    44|        N|   W|  M|   1|       74|\n",
      "|   23|    55|        N|   W|  M|   1|        2|\n",
      "|   23|    54|        N|   W|  M|   1|       34|\n",
      "|   23|    51|        N|   W|  M|   1|      120|\n",
      "|   23|    42|        N|   W|  M|   1|      110|\n",
      "|   23|    44|        N|   W|  M|   0|       14|\n",
      "|   23|    44|        N|   W|  M|   1|       14|\n",
      "|   23|    44|        N|   W|  M|   1|       34|\n",
      "|   23|    42|        N|   W|  M|   1|      280|\n",
      "|   23|    31|        N|   W|  M|   1|       34|\n",
      "|   23|    31|        N|   W|  M|   1|       10|\n",
      "|   23|    22|        N|   W|  M|   1|        4|\n",
      "|   23|    31|        N|   W|  M|   1|       74|\n",
      "|   23|    54|        N|   W|  M|   1|        0|\n",
      "|   23|    71|        N|   W|  M|   1|       14|\n",
      "|   23|    44|        N|   W|  M|   1|       14|\n",
      "|   23|    31|        N|   W|  M|   1|       34|\n",
      "|   23|    31|        N|   W|  M|   1|      490|\n",
      "|   23|    51|        N|   W|  M|   1|      270|\n",
      "|   23|    56|        N|   W|  M|   1|      390|\n",
      "|   23|    22|        N|   W|  M|   1|        4|\n",
      "|   23|    44|        N|   W|  M|   1|       74|\n",
      "|   23|    23|        N|   W|  M|   1|       34|\n",
      "|   23|    31|        N|   W|  M|   1|        2|\n",
      "|   23|    31|        N|   W|  M|   1|      260|\n",
      "|   23|    31|        N|   W|  M|   2|       14|\n",
      "|   23|    52|        N|   W|  M|   0|       34|\n",
      "|   23|    42|        N|   W|  M|   1|       14|\n",
      "|   23|    44|        N|   W|  M|   1|       34|\n",
      "|   23|    11|        N|   W|  M|   1|       34|\n",
      "|   23|    44|        N|   W|  F|   1|       34|\n",
      "|   23|    52|        N|   W|  M|   1|        0|\n",
      "|   23|    51|        N|   W|  M|   1|       14|\n",
      "|   23|    71|        N|   W|  M|   0|        8|\n",
      "|   23|    44|        N|   W|  F|   0|        8|\n",
      "|   23|    31|        N|   W|  M|   0|       74|\n",
      "|   23|    72|        N|   W|  M|   1|        7|\n",
      "|   23|    11|        N|   W|  M|   1|       14|\n",
      "|   23|    44|        N|   W|  M|   1|       34|\n",
      "|   23|    31|        N|W  A|  M|   1|       74|\n",
      "+-----+------+---------+----+---+----+---------+\n",
      "only showing top 41 rows\n",
      "\n"
     ]
    }
   ],
   "source": [
    "simple_07.show(41)"
   ]
  },
  {
   "cell_type": "code",
   "execution_count": 6,
   "metadata": {},
   "outputs": [],
   "source": [
    "data2007 = simple_07.toPandas()"
   ]
  },
  {
   "cell_type": "code",
   "execution_count": 7,
   "metadata": {},
   "outputs": [
    {
     "name": "stdout",
     "output_type": "stream",
     "text": [
      "<class 'pandas.core.frame.DataFrame'>\n",
      "RangeIndex: 2165680 entries, 0 to 2165679\n",
      "Data columns (total 7 columns):\n",
      " #   Column     Dtype \n",
      "---  ------     ----- \n",
      " 0   fipst      object\n",
      " 1   sector     int32 \n",
      " 2   ethnicity  object\n",
      " 3   race       object\n",
      " 4   sex        object\n",
      " 5   year       object\n",
      " 6   employees  int32 \n",
      "dtypes: int32(2), object(5)\n",
      "memory usage: 99.1+ MB\n"
     ]
    }
   ],
   "source": [
    "data2007.info()"
   ]
  },
  {
   "cell_type": "code",
   "execution_count": 8,
   "metadata": {},
   "outputs": [],
   "source": [
    "data2007['year'] = 2007"
   ]
  },
  {
   "cell_type": "code",
   "execution_count": 9,
   "metadata": {},
   "outputs": [],
   "source": [
    "data2007['year'] = pd.to_numeric(data2007['year'])"
   ]
  },
  {
   "cell_type": "code",
   "execution_count": 10,
   "metadata": {},
   "outputs": [
    {
     "name": "stdout",
     "output_type": "stream",
     "text": [
      "<class 'pandas.core.frame.DataFrame'>\n",
      "RangeIndex: 2165680 entries, 0 to 2165679\n",
      "Data columns (total 7 columns):\n",
      " #   Column     Dtype \n",
      "---  ------     ----- \n",
      " 0   fipst      object\n",
      " 1   sector     int32 \n",
      " 2   ethnicity  object\n",
      " 3   race       object\n",
      " 4   sex        object\n",
      " 5   year       int64 \n",
      " 6   employees  int32 \n",
      "dtypes: int32(2), int64(1), object(4)\n",
      "memory usage: 99.1+ MB\n"
     ]
    }
   ],
   "source": [
    "data2007.info()"
   ]
  },
  {
   "cell_type": "code",
   "execution_count": 48,
   "metadata": {},
   "outputs": [],
   "source": [
    "# Leaving state as object because code is alpha-numeric.  Ex. S1, S2, S3, S4."
   ]
  },
  {
   "cell_type": "code",
   "execution_count": 11,
   "metadata": {},
   "outputs": [
    {
     "data": {
      "text/plain": [
       "array(['M', 'F'], dtype=object)"
      ]
     },
     "execution_count": 11,
     "metadata": {},
     "output_type": "execute_result"
    }
   ],
   "source": [
    "data2007.sex.unique()"
   ]
  },
  {
   "cell_type": "code",
   "execution_count": 12,
   "metadata": {},
   "outputs": [],
   "source": [
    "data2007['race1'] = data2007['race'].str.slice(stop=1)"
   ]
  },
  {
   "cell_type": "code",
   "execution_count": 14,
   "metadata": {},
   "outputs": [],
   "source": [
    "data2007['race2'] = data2007['race'].str.slice(start=1)"
   ]
  },
  {
   "cell_type": "code",
   "execution_count": 28,
   "metadata": {},
   "outputs": [
    {
     "data": {
      "text/plain": [
       "array(['W', 'A', 'I', 'B', 'S', 'P'], dtype=object)"
      ]
     },
     "execution_count": 28,
     "metadata": {},
     "output_type": "execute_result"
    }
   ],
   "source": [
    "data2007.race1.unique()"
   ]
  },
  {
   "cell_type": "code",
   "execution_count": 197,
   "metadata": {},
   "outputs": [],
   "source": [
    "# Race classification is designated by:\n",
    "# W – WHITE \n",
    "# B – BLACK\n",
    "# I – AIAN (AMERICAN INDIAN AND ALASKA NATIVE)\n",
    "# A – ASIAN (AN AGGREGATION OF DETAILED ASIAN GROUPS)\n",
    "# P – NHOPI (NATIVE HAWAIIAN AND OTHER PACIFIC ISLANDER) \n",
    "# S – SOR (SOME OTHER RACE)"
   ]
  },
  {
   "cell_type": "code",
   "execution_count": 17,
   "metadata": {},
   "outputs": [
    {
     "data": {
      "text/plain": [
       "array(['', '  A', ' I', 'A', 'B', 'I', '    S', '   P', ' A', ' S', 'P',\n",
       "       '   S', '  P', '  S', ' P', 'S'], dtype=object)"
      ]
     },
     "execution_count": 17,
     "metadata": {},
     "output_type": "execute_result"
    }
   ],
   "source": [
    "data2007.race2.unique()"
   ]
  },
  {
   "cell_type": "code",
   "execution_count": 26,
   "metadata": {},
   "outputs": [],
   "source": [
    "data2007['race2'] = data2007['race2'].str.strip()"
   ]
  },
  {
   "cell_type": "code",
   "execution_count": 27,
   "metadata": {},
   "outputs": [
    {
     "data": {
      "text/plain": [
       "array(['', 'A', 'I', 'B', 'S', 'P'], dtype=object)"
      ]
     },
     "execution_count": 27,
     "metadata": {},
     "output_type": "execute_result"
    }
   ],
   "source": [
    "data2007.race2.unique()"
   ]
  },
  {
   "cell_type": "code",
   "execution_count": 31,
   "metadata": {},
   "outputs": [
    {
     "name": "stdout",
     "output_type": "stream",
     "text": [
      "<class 'pandas.core.frame.DataFrame'>\n",
      "RangeIndex: 2165680 entries, 0 to 2165679\n",
      "Data columns (total 9 columns):\n",
      " #   Column     Dtype \n",
      "---  ------     ----- \n",
      " 0   fipst      object\n",
      " 1   sector     int32 \n",
      " 2   ethnicity  object\n",
      " 3   race       object\n",
      " 4   sex        object\n",
      " 5   year       int64 \n",
      " 6   employees  int32 \n",
      " 7   race1      object\n",
      " 8   race2      object\n",
      "dtypes: int32(2), int64(1), object(6)\n",
      "memory usage: 132.2+ MB\n"
     ]
    }
   ],
   "source": [
    "data2007.info()"
   ]
  },
  {
   "cell_type": "code",
   "execution_count": 19,
   "metadata": {},
   "outputs": [
    {
     "data": {
      "text/plain": [
       "array([51, 44, 55, 54, 42, 31, 22, 71, 56, 23, 52, 11, 72, 81, 53, 48, 62,\n",
       "       21, 61, 99], dtype=int32)"
      ]
     },
     "execution_count": 19,
     "metadata": {},
     "output_type": "execute_result"
    }
   ],
   "source": [
    "data2007.sector.unique()"
   ]
  },
  {
   "cell_type": "code",
   "execution_count": 20,
   "metadata": {},
   "outputs": [],
   "source": [
    "def plotdemo(data, col):\n",
    "    fig, ax = plt.subplots(figsize=(20,5))\n",
    "    ax.hist(data[col]);"
   ]
  },
  {
   "cell_type": "code",
   "execution_count": 21,
   "metadata": {},
   "outputs": [
    {
     "data": {
      "text/plain": [
       "294882"
      ]
     },
     "execution_count": 21,
     "metadata": {},
     "output_type": "execute_result"
    }
   ],
   "source": [
    "len(data2007[data2007['sector'] == 54])"
   ]
  },
  {
   "cell_type": "code",
   "execution_count": null,
   "metadata": {},
   "outputs": [],
   "source": [
    "# 'pst' stands for Professional, Science, and Technical Services.  Sector 54 is the NAICS code for that industry title."
   ]
  },
  {
   "cell_type": "code",
   "execution_count": 32,
   "metadata": {},
   "outputs": [],
   "source": [
    "pst_data_07 = data2007[data2007['sector'] == 54]"
   ]
  },
  {
   "cell_type": "code",
   "execution_count": 41,
   "metadata": {},
   "outputs": [
    {
     "name": "stdout",
     "output_type": "stream",
     "text": [
      "<class 'pandas.core.frame.DataFrame'>\n",
      "Int64Index: 294882 entries, 3 to 2165665\n",
      "Data columns (total 9 columns):\n",
      " #   Column     Non-Null Count   Dtype \n",
      "---  ------     --------------   ----- \n",
      " 0   fipst      294882 non-null  object\n",
      " 1   sector     294882 non-null  int32 \n",
      " 2   ethnicity  294882 non-null  object\n",
      " 3   race       294882 non-null  object\n",
      " 4   sex        294882 non-null  object\n",
      " 5   year       294882 non-null  int64 \n",
      " 6   employees  294882 non-null  int32 \n",
      " 7   race1      294882 non-null  object\n",
      " 8   race2      294882 non-null  object\n",
      "dtypes: int32(2), int64(1), object(6)\n",
      "memory usage: 28.3+ MB\n"
     ]
    }
   ],
   "source": [
    "pst_data_07.info()"
   ]
  },
  {
   "cell_type": "code",
   "execution_count": 102,
   "metadata": {},
   "outputs": [],
   "source": [
    "pst_df = pst_data_07.groupby(['race1', 'race2','ethnicity']).agg({'sector':'count'})"
   ]
  },
  {
   "cell_type": "code",
   "execution_count": 144,
   "metadata": {},
   "outputs": [
    {
     "data": {
      "text/html": [
       "<div>\n",
       "<style scoped>\n",
       "    .dataframe tbody tr th:only-of-type {\n",
       "        vertical-align: middle;\n",
       "    }\n",
       "\n",
       "    .dataframe tbody tr th {\n",
       "        vertical-align: top;\n",
       "    }\n",
       "\n",
       "    .dataframe thead th {\n",
       "        text-align: right;\n",
       "    }\n",
       "</style>\n",
       "<table border=\"1\" class=\"dataframe\">\n",
       "  <thead>\n",
       "    <tr style=\"text-align: right;\">\n",
       "      <th></th>\n",
       "      <th></th>\n",
       "      <th></th>\n",
       "      <th>percent</th>\n",
       "    </tr>\n",
       "    <tr>\n",
       "      <th>race1</th>\n",
       "      <th>race2</th>\n",
       "      <th>ethnicity</th>\n",
       "      <th></th>\n",
       "    </tr>\n",
       "  </thead>\n",
       "  <tbody>\n",
       "    <tr>\n",
       "      <th rowspan=\"5\" valign=\"top\">A</th>\n",
       "      <th rowspan=\"2\" valign=\"top\"></th>\n",
       "      <th>H</th>\n",
       "      <td>0.094614</td>\n",
       "    </tr>\n",
       "    <tr>\n",
       "      <th>N</th>\n",
       "      <td>6.479880</td>\n",
       "    </tr>\n",
       "    <tr>\n",
       "      <th rowspan=\"2\" valign=\"top\">P</th>\n",
       "      <th>H</th>\n",
       "      <td>0.002374</td>\n",
       "    </tr>\n",
       "    <tr>\n",
       "      <th>N</th>\n",
       "      <td>0.028825</td>\n",
       "    </tr>\n",
       "    <tr>\n",
       "      <th>S</th>\n",
       "      <th>N</th>\n",
       "      <td>0.044425</td>\n",
       "    </tr>\n",
       "    <tr>\n",
       "      <th rowspan=\"9\" valign=\"top\">B</th>\n",
       "      <th rowspan=\"2\" valign=\"top\"></th>\n",
       "      <th>H</th>\n",
       "      <td>0.162438</td>\n",
       "    </tr>\n",
       "    <tr>\n",
       "      <th>N</th>\n",
       "      <td>4.354623</td>\n",
       "    </tr>\n",
       "    <tr>\n",
       "      <th rowspan=\"2\" valign=\"top\">A</th>\n",
       "      <th>H</th>\n",
       "      <td>0.005426</td>\n",
       "    </tr>\n",
       "    <tr>\n",
       "      <th>N</th>\n",
       "      <td>0.035607</td>\n",
       "    </tr>\n",
       "    <tr>\n",
       "      <th rowspan=\"2\" valign=\"top\">I</th>\n",
       "      <th>H</th>\n",
       "      <td>0.004748</td>\n",
       "    </tr>\n",
       "    <tr>\n",
       "      <th>N</th>\n",
       "      <td>0.039677</td>\n",
       "    </tr>\n",
       "    <tr>\n",
       "      <th>P</th>\n",
       "      <th>N</th>\n",
       "      <td>0.002035</td>\n",
       "    </tr>\n",
       "    <tr>\n",
       "      <th rowspan=\"2\" valign=\"top\">S</th>\n",
       "      <th>H</th>\n",
       "      <td>0.000678</td>\n",
       "    </tr>\n",
       "    <tr>\n",
       "      <th>N</th>\n",
       "      <td>0.007800</td>\n",
       "    </tr>\n",
       "    <tr>\n",
       "      <th rowspan=\"8\" valign=\"top\">I</th>\n",
       "      <th rowspan=\"2\" valign=\"top\"></th>\n",
       "      <th>H</th>\n",
       "      <td>0.074945</td>\n",
       "    </tr>\n",
       "    <tr>\n",
       "      <th>N</th>\n",
       "      <td>0.558868</td>\n",
       "    </tr>\n",
       "    <tr>\n",
       "      <th rowspan=\"2\" valign=\"top\">A</th>\n",
       "      <th>H</th>\n",
       "      <td>0.001696</td>\n",
       "    </tr>\n",
       "    <tr>\n",
       "      <th>N</th>\n",
       "      <td>0.017295</td>\n",
       "    </tr>\n",
       "    <tr>\n",
       "      <th rowspan=\"2\" valign=\"top\">P</th>\n",
       "      <th>H</th>\n",
       "      <td>0.000339</td>\n",
       "    </tr>\n",
       "    <tr>\n",
       "      <th>N</th>\n",
       "      <td>0.002035</td>\n",
       "    </tr>\n",
       "    <tr>\n",
       "      <th rowspan=\"2\" valign=\"top\">S</th>\n",
       "      <th>H</th>\n",
       "      <td>0.000678</td>\n",
       "    </tr>\n",
       "    <tr>\n",
       "      <th>N</th>\n",
       "      <td>0.000678</td>\n",
       "    </tr>\n",
       "    <tr>\n",
       "      <th rowspan=\"3\" valign=\"top\">P</th>\n",
       "      <th rowspan=\"2\" valign=\"top\"></th>\n",
       "      <th>H</th>\n",
       "      <td>0.007461</td>\n",
       "    </tr>\n",
       "    <tr>\n",
       "      <th>N</th>\n",
       "      <td>0.107162</td>\n",
       "    </tr>\n",
       "    <tr>\n",
       "      <th>S</th>\n",
       "      <th>N</th>\n",
       "      <td>0.000678</td>\n",
       "    </tr>\n",
       "    <tr>\n",
       "      <th rowspan=\"2\" valign=\"top\">S</th>\n",
       "      <th rowspan=\"2\" valign=\"top\"></th>\n",
       "      <th>H</th>\n",
       "      <td>0.026112</td>\n",
       "    </tr>\n",
       "    <tr>\n",
       "      <th>N</th>\n",
       "      <td>0.128526</td>\n",
       "    </tr>\n",
       "    <tr>\n",
       "      <th rowspan=\"12\" valign=\"top\">W</th>\n",
       "      <th rowspan=\"2\" valign=\"top\"></th>\n",
       "      <th>H</th>\n",
       "      <td>4.861945</td>\n",
       "    </tr>\n",
       "    <tr>\n",
       "      <th>N</th>\n",
       "      <td>81.641470</td>\n",
       "    </tr>\n",
       "    <tr>\n",
       "      <th rowspan=\"2\" valign=\"top\">A</th>\n",
       "      <th>H</th>\n",
       "      <td>0.026790</td>\n",
       "    </tr>\n",
       "    <tr>\n",
       "      <th>N</th>\n",
       "      <td>0.454419</td>\n",
       "    </tr>\n",
       "    <tr>\n",
       "      <th rowspan=\"2\" valign=\"top\">B</th>\n",
       "      <th>H</th>\n",
       "      <td>0.100718</td>\n",
       "    </tr>\n",
       "    <tr>\n",
       "      <th>N</th>\n",
       "      <td>0.219071</td>\n",
       "    </tr>\n",
       "    <tr>\n",
       "      <th rowspan=\"2\" valign=\"top\">I</th>\n",
       "      <th>H</th>\n",
       "      <td>0.036286</td>\n",
       "    </tr>\n",
       "    <tr>\n",
       "      <th>N</th>\n",
       "      <td>0.343188</td>\n",
       "    </tr>\n",
       "    <tr>\n",
       "      <th rowspan=\"2\" valign=\"top\">P</th>\n",
       "      <th>H</th>\n",
       "      <td>0.004069</td>\n",
       "    </tr>\n",
       "    <tr>\n",
       "      <th>N</th>\n",
       "      <td>0.048155</td>\n",
       "    </tr>\n",
       "    <tr>\n",
       "      <th rowspan=\"2\" valign=\"top\">S</th>\n",
       "      <th>H</th>\n",
       "      <td>0.020686</td>\n",
       "    </tr>\n",
       "    <tr>\n",
       "      <th>N</th>\n",
       "      <td>0.053581</td>\n",
       "    </tr>\n",
       "  </tbody>\n",
       "</table>\n",
       "</div>"
      ],
      "text/plain": [
       "                         percent\n",
       "race1 race2 ethnicity           \n",
       "A           H           0.094614\n",
       "            N           6.479880\n",
       "      P     H           0.002374\n",
       "            N           0.028825\n",
       "      S     N           0.044425\n",
       "B           H           0.162438\n",
       "            N           4.354623\n",
       "      A     H           0.005426\n",
       "            N           0.035607\n",
       "      I     H           0.004748\n",
       "            N           0.039677\n",
       "      P     N           0.002035\n",
       "      S     H           0.000678\n",
       "            N           0.007800\n",
       "I           H           0.074945\n",
       "            N           0.558868\n",
       "      A     H           0.001696\n",
       "            N           0.017295\n",
       "      P     H           0.000339\n",
       "            N           0.002035\n",
       "      S     H           0.000678\n",
       "            N           0.000678\n",
       "P           H           0.007461\n",
       "            N           0.107162\n",
       "      S     N           0.000678\n",
       "S           H           0.026112\n",
       "            N           0.128526\n",
       "W           H           4.861945\n",
       "            N          81.641470\n",
       "      A     H           0.026790\n",
       "            N           0.454419\n",
       "      B     H           0.100718\n",
       "            N           0.219071\n",
       "      I     H           0.036286\n",
       "            N           0.343188\n",
       "      P     H           0.004069\n",
       "            N           0.048155\n",
       "      S     H           0.020686\n",
       "            N           0.053581"
      ]
     },
     "execution_count": 144,
     "metadata": {},
     "output_type": "execute_result"
    }
   ],
   "source": [
    "pst_percent = pst_df.groupby(level=0).apply(lambda x: 100 * x / float(sum(pst_df['sector'])))\n",
    "pst_percent.rename(columns={'sector':'percent'},inplace=True)\n",
    "pst_percent"
   ]
  },
  {
   "cell_type": "code",
   "execution_count": 188,
   "metadata": {},
   "outputs": [],
   "source": [
    "percent_race = pst_percent.groupby(level=0).agg({'percent':'sum'})\n",
    "percent_race.sort_values('percent',ascending=False,inplace=True)\n",
    "percent_race.reset_index(inplace=True)\n",
    "percent_race.rename(columns={'race1':'race'},inplace=True)"
   ]
  },
  {
   "cell_type": "code",
   "execution_count": 189,
   "metadata": {},
   "outputs": [
    {
     "data": {
      "text/html": [
       "<div>\n",
       "<style scoped>\n",
       "    .dataframe tbody tr th:only-of-type {\n",
       "        vertical-align: middle;\n",
       "    }\n",
       "\n",
       "    .dataframe tbody tr th {\n",
       "        vertical-align: top;\n",
       "    }\n",
       "\n",
       "    .dataframe thead th {\n",
       "        text-align: right;\n",
       "    }\n",
       "</style>\n",
       "<table border=\"1\" class=\"dataframe\">\n",
       "  <thead>\n",
       "    <tr style=\"text-align: right;\">\n",
       "      <th></th>\n",
       "      <th>race</th>\n",
       "      <th>percent</th>\n",
       "    </tr>\n",
       "  </thead>\n",
       "  <tbody>\n",
       "    <tr>\n",
       "      <th>0</th>\n",
       "      <td>W</td>\n",
       "      <td>87.810378</td>\n",
       "    </tr>\n",
       "    <tr>\n",
       "      <th>1</th>\n",
       "      <td>A</td>\n",
       "      <td>6.650118</td>\n",
       "    </tr>\n",
       "    <tr>\n",
       "      <th>2</th>\n",
       "      <td>B</td>\n",
       "      <td>4.613032</td>\n",
       "    </tr>\n",
       "    <tr>\n",
       "      <th>3</th>\n",
       "      <td>I</td>\n",
       "      <td>0.656534</td>\n",
       "    </tr>\n",
       "    <tr>\n",
       "      <th>4</th>\n",
       "      <td>S</td>\n",
       "      <td>0.154638</td>\n",
       "    </tr>\n",
       "    <tr>\n",
       "      <th>5</th>\n",
       "      <td>P</td>\n",
       "      <td>0.115300</td>\n",
       "    </tr>\n",
       "  </tbody>\n",
       "</table>\n",
       "</div>"
      ],
      "text/plain": [
       "  race    percent\n",
       "0    W  87.810378\n",
       "1    A   6.650118\n",
       "2    B   4.613032\n",
       "3    I   0.656534\n",
       "4    S   0.154638\n",
       "5    P   0.115300"
      ]
     },
     "execution_count": 189,
     "metadata": {},
     "output_type": "execute_result"
    }
   ],
   "source": [
    "# percent_race.sort_values('percent',ascending=False,inplace=True)\n",
    "percent_race"
   ]
  },
  {
   "cell_type": "code",
   "execution_count": 190,
   "metadata": {},
   "outputs": [
    {
     "data": {
      "text/plain": [
       "race       WABISP\n",
       "percent     100.0\n",
       "dtype: object"
      ]
     },
     "execution_count": 190,
     "metadata": {},
     "output_type": "execute_result"
    }
   ],
   "source": [
    "percent_race.sum()"
   ]
  },
  {
   "cell_type": "code",
   "execution_count": 193,
   "metadata": {},
   "outputs": [
    {
     "data": {
      "image/png": "[encoded data removed]",
      "text/plain": [
       "<Figure size 432x288 with 1 Axes>"
      ]
     },
     "metadata": {},
     "output_type": "display_data"
    }
   ],
   "source": [
    "x = np.arange(len(percent_race['race']))\n",
    "\n",
    "fig, ax = plt.subplots()\n",
    "\n",
    "ax.bar(x, percent_race['percent'])\n",
    "ax.set_xticks(x)\n",
    "ax.set_xticklabels(percent_race['race']);"
   ]
  },
  {
   "cell_type": "code",
   "execution_count": 200,
   "metadata": {},
   "outputs": [
    {
     "data": {
      "text/html": [
       "<div>\n",
       "<style scoped>\n",
       "    .dataframe tbody tr th:only-of-type {\n",
       "        vertical-align: middle;\n",
       "    }\n",
       "\n",
       "    .dataframe tbody tr th {\n",
       "        vertical-align: top;\n",
       "    }\n",
       "\n",
       "    .dataframe thead th {\n",
       "        text-align: right;\n",
       "    }\n",
       "</style>\n",
       "<table border=\"1\" class=\"dataframe\">\n",
       "  <thead>\n",
       "    <tr style=\"text-align: right;\">\n",
       "      <th></th>\n",
       "      <th>race</th>\n",
       "      <th>percent</th>\n",
       "    </tr>\n",
       "  </thead>\n",
       "  <tbody>\n",
       "    <tr>\n",
       "      <th>1</th>\n",
       "      <td>A</td>\n",
       "      <td>6.650118</td>\n",
       "    </tr>\n",
       "    <tr>\n",
       "      <th>2</th>\n",
       "      <td>B</td>\n",
       "      <td>4.613032</td>\n",
       "    </tr>\n",
       "    <tr>\n",
       "      <th>3</th>\n",
       "      <td>I</td>\n",
       "      <td>0.656534</td>\n",
       "    </tr>\n",
       "    <tr>\n",
       "      <th>4</th>\n",
       "      <td>S</td>\n",
       "      <td>0.154638</td>\n",
       "    </tr>\n",
       "    <tr>\n",
       "      <th>5</th>\n",
       "      <td>P</td>\n",
       "      <td>0.115300</td>\n",
       "    </tr>\n",
       "  </tbody>\n",
       "</table>\n",
       "</div>"
      ],
      "text/plain": [
       "  race   percent\n",
       "1    A  6.650118\n",
       "2    B  4.613032\n",
       "3    I  0.656534\n",
       "4    S  0.154638\n",
       "5    P  0.115300"
      ]
     },
     "execution_count": 200,
     "metadata": {},
     "output_type": "execute_result"
    }
   ],
   "source": [
    "zoomed_percent_race = percent_race[percent_race['race'] != 'W']\n",
    "zoomed_percent_race"
   ]
  },
  {
   "cell_type": "code",
   "execution_count": 204,
   "metadata": {},
   "outputs": [
    {
     "data": {
      "image/png": "[encoded data removed]",
      "text/plain": [
       "<Figure size 1080x288 with 2 Axes>"
      ]
     },
     "metadata": {},
     "output_type": "display_data"
    }
   ],
   "source": [
    "x = np.arange(len(percent_race['race']))\n",
    "x2 = np.arange(len(zoomed_percent_race['race']))\n",
    "\n",
    "fig, ax = plt.subplots(1,2,figsize=(15,4))\n",
    "\n",
    "ax[0].bar(x, percent_race['percent'])\n",
    "ax[0].set_xticks(x)\n",
    "ax[0].set_xticklabels(percent_race['race']);\n",
    "\n",
    "ax[1].bar(x2, zoomed_percent_race['percent'])\n",
    "ax[1].set_xticks(x2)\n",
    "ax[1].set_xticklabels(zoomed_percent_race['race']);"
   ]
  },
  {
   "cell_type": "code",
   "execution_count": 1,
   "metadata": {},
   "outputs": [
    {
     "ename": "NameError",
     "evalue": "name 'race12' is not defined",
     "output_type": "error",
     "traceback": [
      "\u001b[0;31m---------------------------------------------------------------------------\u001b[0m",
      "\u001b[0;31mNameError\u001b[0m                                 Traceback (most recent call last)",
      "\u001b[0;32m<ipython-input-1-e8797ec9246b>\u001b[0m in \u001b[0;36m<module>\u001b[0;34m\u001b[0m\n\u001b[0;32m----> 1\u001b[0;31m \u001b[0mzoom_race12\u001b[0m \u001b[0;34m=\u001b[0m \u001b[0mrace12\u001b[0m\u001b[0;34m[\u001b[0m\u001b[0mrace12\u001b[0m\u001b[0;34m[\u001b[0m\u001b[0;34m'race'\u001b[0m\u001b[0;34m]\u001b[0m \u001b[0;34m!=\u001b[0m \u001b[0;34m'White'\u001b[0m\u001b[0;34m]\u001b[0m\u001b[0;34m\u001b[0m\u001b[0;34m\u001b[0m\u001b[0m\n\u001b[0m\u001b[1;32m      2\u001b[0m \u001b[0mx\u001b[0m \u001b[0;34m=\u001b[0m \u001b[0mnp\u001b[0m\u001b[0;34m.\u001b[0m\u001b[0marange\u001b[0m\u001b[0;34m(\u001b[0m\u001b[0mlen\u001b[0m\u001b[0;34m(\u001b[0m\u001b[0mrace12\u001b[0m\u001b[0;34m[\u001b[0m\u001b[0;34m'race'\u001b[0m\u001b[0;34m]\u001b[0m\u001b[0;34m)\u001b[0m\u001b[0;34m)\u001b[0m\u001b[0;34m\u001b[0m\u001b[0;34m\u001b[0m\u001b[0m\n\u001b[1;32m      3\u001b[0m \u001b[0mx2\u001b[0m \u001b[0;34m=\u001b[0m \u001b[0mnp\u001b[0m\u001b[0;34m.\u001b[0m\u001b[0marange\u001b[0m\u001b[0;34m(\u001b[0m\u001b[0mlen\u001b[0m\u001b[0;34m(\u001b[0m\u001b[0mzoom_race12\u001b[0m\u001b[0;34m[\u001b[0m\u001b[0;34m'race'\u001b[0m\u001b[0;34m]\u001b[0m\u001b[0;34m)\u001b[0m\u001b[0;34m)\u001b[0m\u001b[0;34m\u001b[0m\u001b[0;34m\u001b[0m\u001b[0m\n\u001b[1;32m      4\u001b[0m \u001b[0mxlist\u001b[0m \u001b[0;34m=\u001b[0m \u001b[0;34m[\u001b[0m\u001b[0;34m'White'\u001b[0m\u001b[0;34m,\u001b[0m\u001b[0;34m'Asian'\u001b[0m\u001b[0;34m,\u001b[0m\u001b[0;34m'Black'\u001b[0m\u001b[0;34m,\u001b[0m \u001b[0;34m'Other'\u001b[0m\u001b[0;34m,\u001b[0m \u001b[0;34m'Native American'\u001b[0m\u001b[0;34m,\u001b[0m \u001b[0;34m'Pacific'\u001b[0m\u001b[0;34m]\u001b[0m\u001b[0;34m\u001b[0m\u001b[0;34m\u001b[0m\u001b[0m\n\u001b[1;32m      5\u001b[0m \u001b[0mfig\u001b[0m\u001b[0;34m,\u001b[0m \u001b[0max\u001b[0m \u001b[0;34m=\u001b[0m \u001b[0mplt\u001b[0m\u001b[0;34m.\u001b[0m\u001b[0msubplots\u001b[0m\u001b[0;34m(\u001b[0m\u001b[0;36m2\u001b[0m\u001b[0;34m,\u001b[0m\u001b[0;36m1\u001b[0m\u001b[0;34m,\u001b[0m\u001b[0mfigsize\u001b[0m\u001b[0;34m=\u001b[0m\u001b[0;34m(\u001b[0m\u001b[0;36m5\u001b[0m\u001b[0;34m,\u001b[0m\u001b[0;36m6\u001b[0m\u001b[0;34m)\u001b[0m\u001b[0;34m)\u001b[0m\u001b[0;34m\u001b[0m\u001b[0;34m\u001b[0m\u001b[0m\n",
      "\u001b[0;31mNameError\u001b[0m: name 'race12' is not defined"
     ]
    }
   ],
   "source": [
    "zoom_race12 = race12[race12['race'] != 'White']\n",
    "x = np.arange(len(race12['race']))\n",
    "x2 = np.arange(len(zoom_race12['race']))\n",
    "xlist = ['White','Asian','Black', 'Other', 'Native American', 'Pacific']\n",
    "fig, ax = plt.subplots(2,1,figsize=(5,6))\n",
    "\n",
    "ax[0].bar(x, race12['percent'], color='deepskyblue')\n",
    "ax[0].set_xticks(x)\n",
    "ax[0].set_xticklabels(xlist);\n",
    "\n",
    "plt.setp(ax[0].get_xticklabels(), rotation=45);\n",
    "\n",
    "ax[1].bar(x2, zoom_race12['percent'], color='deepskyblue')\n",
    "ax[1].set_xticks(x2)\n",
    "ax[1].set_xticklabels(xlist[1:]);\n",
    "\n",
    "plt.setp(ax[1].get_xticklabels(), rotation=45);\n",
    "\n",
    "ax[0].set_title(\"2012 Overall\");\n",
    "ax[1].set_title(\"2012 Zoomed\");\n",
    "fig.tight_layout()\n",
    "plt.savefig('2012_racez.png')"
   ]
  },
  {
   "cell_type": "code",
   "execution_count": null,
   "metadata": {},
   "outputs": [],
   "source": []
  }
 ],
 "metadata": {
  "kernelspec": {
   "display_name": "Python 3",
   "language": "python",
   "name": "python3"
  },
  "language_info": {
   "codemirror_mode": {
    "name": "ipython",
    "version": 3
   },
   "file_extension": ".py",
   "mimetype": "text/x-python",
   "name": "python",
   "nbconvert_exporter": "python",
   "pygments_lexer": "ipython3",
   "version": "3.8.5"
  }
 },
 "nbformat": 4,
 "nbformat_minor": 5
}
