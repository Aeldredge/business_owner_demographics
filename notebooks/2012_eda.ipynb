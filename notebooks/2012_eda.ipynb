{
 "cells": [
  {
   "cell_type": "code",
   "execution_count": 1,
   "metadata": {},
   "outputs": [],
   "source": [
    "import numpy as np\n",
    "import pandas as pd\n",
    "import matplotlib.pyplot as plt\n",
    "\n",
    "plt.style.use('ggplot')\n",
    "pd.set_option('display.max_columns', None)\n",
    "pd.set_option('display.max_rows', None)"
   ]
  },
  {
   "cell_type": "code",
   "execution_count": 2,
   "metadata": {},
   "outputs": [],
   "source": [
    "data12 = pd.read_csv('~/Documents/dsi/capstone/capstone1/data/2012/2012_data.csv')"
   ]
  },
  {
   "cell_type": "code",
   "execution_count": 3,
   "metadata": {
    "scrolled": false
   },
   "outputs": [],
   "source": [
    "df12 = data12.groupby(['RACE_GROUP_TTL', 'ETH_GROUP_TTL','SEX_TTL']).agg({'FIRMALL':'sum'})\n",
    "df12.rename(columns={'FIRMALL':'count'},inplace=True)"
   ]
  },
  {
   "cell_type": "code",
   "execution_count": 4,
   "metadata": {},
   "outputs": [],
   "source": [
    "df12.drop(index='Meaning of Race code',inplace=True)"
   ]
  },
  {
   "cell_type": "code",
   "execution_count": 5,
   "metadata": {},
   "outputs": [],
   "source": [
    "df12['count'] = pd.to_numeric(df12['count'])"
   ]
  },
  {
   "cell_type": "markdown",
   "metadata": {},
   "source": [
    "Hypothesis Test on certain factors\n"
   ]
  },
  {
   "cell_type": "code",
   "execution_count": 6,
   "metadata": {},
   "outputs": [],
   "source": [
    "df12['percent'] = 100 * (df12['count'] / df12.iloc[0,0])"
   ]
  },
  {
   "cell_type": "code",
   "execution_count": 7,
   "metadata": {},
   "outputs": [],
   "source": [
    "percent12 = df12.sort_values('percent',ascending=False)"
   ]
  },
  {
   "cell_type": "code",
   "execution_count": 8,
   "metadata": {},
   "outputs": [],
   "source": [
    "consolidate12 = percent12[1:].drop(index='All firms',level=0)\n",
    "consolidate12 = consolidate12[1:].drop(index='All firms',level=1)"
   ]
  },
  {
   "cell_type": "code",
   "execution_count": 9,
   "metadata": {},
   "outputs": [
    {
     "data": {
      "text/html": [
       "<div>\n",
       "<style scoped>\n",
       "    .dataframe tbody tr th:only-of-type {\n",
       "        vertical-align: middle;\n",
       "    }\n",
       "\n",
       "    .dataframe tbody tr th {\n",
       "        vertical-align: top;\n",
       "    }\n",
       "\n",
       "    .dataframe thead th {\n",
       "        text-align: right;\n",
       "    }\n",
       "</style>\n",
       "<table border=\"1\" class=\"dataframe\">\n",
       "  <thead>\n",
       "    <tr style=\"text-align: right;\">\n",
       "      <th></th>\n",
       "      <th>race</th>\n",
       "      <th>percent</th>\n",
       "    </tr>\n",
       "  </thead>\n",
       "  <tbody>\n",
       "    <tr>\n",
       "      <th>0</th>\n",
       "      <td>White</td>\n",
       "      <td>85.284708</td>\n",
       "    </tr>\n",
       "    <tr>\n",
       "      <th>1</th>\n",
       "      <td>Asian</td>\n",
       "      <td>7.104229</td>\n",
       "    </tr>\n",
       "    <tr>\n",
       "      <th>2</th>\n",
       "      <td>Black or African American</td>\n",
       "      <td>5.308209</td>\n",
       "    </tr>\n",
       "    <tr>\n",
       "      <th>3</th>\n",
       "      <td>Some other race</td>\n",
       "      <td>1.735664</td>\n",
       "    </tr>\n",
       "    <tr>\n",
       "      <th>4</th>\n",
       "      <td>American Indian and Alaska Native</td>\n",
       "      <td>0.794329</td>\n",
       "    </tr>\n",
       "    <tr>\n",
       "      <th>5</th>\n",
       "      <td>Native Hawaiian and Other Pacific Islander</td>\n",
       "      <td>0.161395</td>\n",
       "    </tr>\n",
       "  </tbody>\n",
       "</table>\n",
       "</div>"
      ],
      "text/plain": [
       "                                         race    percent\n",
       "0                                       White  85.284708\n",
       "1                                       Asian   7.104229\n",
       "2                   Black or African American   5.308209\n",
       "3                             Some other race   1.735664\n",
       "4           American Indian and Alaska Native   0.794329\n",
       "5  Native Hawaiian and Other Pacific Islander   0.161395"
      ]
     },
     "execution_count": 9,
     "metadata": {},
     "output_type": "execute_result"
    }
   ],
   "source": [
    "race12 = consolidate12.groupby(level=0).agg({'percent':'sum'})\n",
    "race12.sort_values('percent',ascending=False,inplace=True)\n",
    "race12.reset_index(inplace=True)\n",
    "race12.rename(columns={'RACE_GROUP_TTL':'race'},inplace=True)\n",
    "race12"
   ]
  },
  {
   "cell_type": "code",
   "execution_count": 10,
   "metadata": {},
   "outputs": [],
   "source": []
  },
  {
   "cell_type": "code",
   "execution_count": 22,
   "metadata": {},
   "outputs": [
    {
     "data": {
      "image/png": "[encoded data removed]",
      "text/plain": [
       "<Figure size 360x432 with 2 Axes>"
      ]
     },
     "metadata": {},
     "output_type": "display_data"
    }
   ],
   "source": [
    "zoom_race12 = race12[race12['race'] != 'White']\n",
    "x = np.arange(len(race12['race']))\n",
    "x2 = np.arange(len(zoom_race12['race']))\n",
    "xlist = ['White','Asian','Black', 'Other', 'Native American', 'Pacific']\n",
    "fig, ax = plt.subplots(2,1,figsize=(5,6))\n",
    "\n",
    "ax[0].bar(x, race12['percent'], color='dodgerblue')\n",
    "ax[0].set_xticks(x)\n",
    "ax[0].set_xticklabels(xlist);\n",
    "\n",
    "plt.setp(ax[0].get_xticklabels(), rotation=45);\n",
    "\n",
    "ax[1].bar(x2, zoom_race12['percent'], color='dodgerblue')\n",
    "ax[1].set_xticks(x2)\n",
    "ax[1].set_xticklabels(xlist[1:]);\n",
    "\n",
    "plt.setp(ax[1].get_xticklabels(), rotation=45);\n",
    "\n",
    "ax[0].set_title(\"2012 Overall\");\n",
    "ax[1].set_title(\"2012 Zoomed\");\n",
    "fig.tight_layout()\n",
    "plt.savefig('2012_racez.png')"
   ]
  },
  {
   "cell_type": "code",
   "execution_count": 12,
   "metadata": {},
   "outputs": [
    {
     "data": {
      "text/html": [
       "<div>\n",
       "<style scoped>\n",
       "    .dataframe tbody tr th:only-of-type {\n",
       "        vertical-align: middle;\n",
       "    }\n",
       "\n",
       "    .dataframe tbody tr th {\n",
       "        vertical-align: top;\n",
       "    }\n",
       "\n",
       "    .dataframe thead th {\n",
       "        text-align: right;\n",
       "    }\n",
       "</style>\n",
       "<table border=\"1\" class=\"dataframe\">\n",
       "  <thead>\n",
       "    <tr style=\"text-align: right;\">\n",
       "      <th></th>\n",
       "      <th>ethnicity</th>\n",
       "      <th>percent</th>\n",
       "    </tr>\n",
       "  </thead>\n",
       "  <tbody>\n",
       "    <tr>\n",
       "      <th>1</th>\n",
       "      <td>Non-Hispanic</td>\n",
       "      <td>91.624054</td>\n",
       "    </tr>\n",
       "    <tr>\n",
       "      <th>5</th>\n",
       "      <td>Hispanic</td>\n",
       "      <td>7.132624</td>\n",
       "    </tr>\n",
       "  </tbody>\n",
       "</table>\n",
       "</div>"
      ],
      "text/plain": [
       "      ethnicity    percent\n",
       "1  Non-Hispanic  91.624054\n",
       "5      Hispanic   7.132624"
      ]
     },
     "execution_count": 12,
     "metadata": {},
     "output_type": "execute_result"
    }
   ],
   "source": [
    "eth12 = percent12[1:].drop(index='All firms',level=1)\n",
    "eth12.reset_index(inplace=True)\n",
    "eth12 = eth12[eth12['RACE_GROUP_TTL'] == 'All firms']\n",
    "eth12 = eth12[eth12['SEX_TTL'] == 'All firms']\n",
    "eth12 = eth12[eth12['ETH_GROUP_TTL'].isin(['Non-Hispanic', 'Hispanic'])]\n",
    "eth12 = eth12.drop(columns=['RACE_GROUP_TTL','SEX_TTL','count']).rename(columns={'ETH_GROUP_TTL':'ethnicity'})\n",
    "eth12"
   ]
  },
  {
   "cell_type": "code",
   "execution_count": 13,
   "metadata": {},
   "outputs": [
    {
     "name": "stderr",
     "output_type": "stream",
     "text": [
      "<ipython-input-13-a20605f0e919>:2: PerformanceWarning: indexing past lexsort depth may impact performance.\n",
      "  sex12 = sex12.loc[('All firms','All firms')]\n"
     ]
    },
    {
     "data": {
      "text/html": [
       "<div>\n",
       "<style scoped>\n",
       "    .dataframe tbody tr th:only-of-type {\n",
       "        vertical-align: middle;\n",
       "    }\n",
       "\n",
       "    .dataframe tbody tr th {\n",
       "        vertical-align: top;\n",
       "    }\n",
       "\n",
       "    .dataframe thead th {\n",
       "        text-align: right;\n",
       "    }\n",
       "</style>\n",
       "<table border=\"1\" class=\"dataframe\">\n",
       "  <thead>\n",
       "    <tr style=\"text-align: right;\">\n",
       "      <th></th>\n",
       "      <th>sex</th>\n",
       "      <th>percent</th>\n",
       "    </tr>\n",
       "  </thead>\n",
       "  <tbody>\n",
       "    <tr>\n",
       "      <th>0</th>\n",
       "      <td>Male-owned</td>\n",
       "      <td>58.002277</td>\n",
       "    </tr>\n",
       "    <tr>\n",
       "      <th>1</th>\n",
       "      <td>Female-owned</td>\n",
       "      <td>34.232600</td>\n",
       "    </tr>\n",
       "    <tr>\n",
       "      <th>2</th>\n",
       "      <td>Equally male-/female-owned</td>\n",
       "      <td>6.999394</td>\n",
       "    </tr>\n",
       "    <tr>\n",
       "      <th>3</th>\n",
       "      <td>Publicly held and other firms not classifiable...</td>\n",
       "      <td>0.765729</td>\n",
       "    </tr>\n",
       "  </tbody>\n",
       "</table>\n",
       "</div>"
      ],
      "text/plain": [
       "                                                 sex    percent\n",
       "0                                         Male-owned  58.002277\n",
       "1                                       Female-owned  34.232600\n",
       "2                         Equally male-/female-owned   6.999394\n",
       "3  Publicly held and other firms not classifiable...   0.765729"
      ]
     },
     "execution_count": 13,
     "metadata": {},
     "output_type": "execute_result"
    }
   ],
   "source": [
    "sex12 = percent12[1:].drop(index='All firms',level=2)\n",
    "sex12 = sex12.loc[('All firms','All firms')]\n",
    "sex12 = sex12[1:].drop(columns='count')\n",
    "sex12.reset_index(inplace=True)\n",
    "sex12.rename(columns={'SEX_TTL':'sex'},inplace=True)\n",
    "sex12"
   ]
  },
  {
   "cell_type": "code",
   "execution_count": null,
   "metadata": {},
   "outputs": [],
   "source": []
  }
 ],
 "metadata": {
  "kernelspec": {
   "display_name": "Python 3",
   "language": "python",
   "name": "python3"
  },
  "language_info": {
   "codemirror_mode": {
    "name": "ipython",
    "version": 3
   },
   "file_extension": ".py",
   "mimetype": "text/x-python",
   "name": "python",
   "nbconvert_exporter": "python",
   "pygments_lexer": "ipython3",
   "version": "3.8.5"
  }
 },
 "nbformat": 4,
 "nbformat_minor": 4
}
